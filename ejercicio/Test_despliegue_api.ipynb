{
 "cells": [
  {
   "cell_type": "markdown",
   "metadata": {},
   "source": [
    "# Test y Despliegue"
   ]
  },
  {
   "cell_type": "markdown",
   "metadata": {},
   "source": [
    "\n",
    "Partes de la aplicación Flask de la anterior tarea, que contiene una API con tres endpoints: /ingest, /predict, y /retrain. Sin embargo, hay problemas identificados en la aplicación que impiden que pase los tests provistos.\n",
    "\n",
    "Las tareas principales son:\n",
    "\n",
    "1. **Debugging de la Aplicación Flask:**\n",
    "La aplicación Flask tiene problemas que impiden que pase los tests proporcionados. Los tests cubren la funcionalidad de los tres endpoints, verificando su correcto funcionamiento y las respuestas esperadas. Tus tareas son:\n",
    "\n",
    "* Identificar y corregir los problemas en la aplicación para que pase los tests proporcionados.\n",
    "* Asegurar que la lógica de los endpoints cumpla con las especificaciones dadas.\n",
    "\n",
    "2. **Despliegue en Docker Hub:**\n",
    "Una vez que la aplicación pasa los tests y está funcionando correctamente de manera local, se requiere desplegar la aplicación en Docker Hub para facilitar su despliegue en diferentes equipos. Tus tareas son:\n",
    "\n",
    "* Crear un Dockerfile adecuado para la aplicación Flask.\n",
    "* Construir una imagen Docker de la aplicación.\n",
    "* Subir la imagen de la aplicación a Docker Hub.\n",
    "\n",
    "La aplicación debe pasar los tests proporcionados después de realizar correccione y debe ser desplegada en Docker Hub correctamente.\n",
    "Se evaluará en directo el resultado de vuestros despliegues.\n",
    "\n",
    "**Entrega**:\n",
    "La URL de Docker Hub donde se ha subido la imagen de la aplicación"
   ]
  },
  {
   "cell_type": "code",
   "execution_count": 2,
   "metadata": {},
   "outputs": [
    {
     "name": "stdout",
     "output_type": "stream",
     "text": [
      "Collecting pytest\n",
      "  Downloading pytest-7.4.3-py3-none-any.whl.metadata (7.9 kB)\n",
      "Collecting iniconfig (from pytest)\n",
      "  Downloading iniconfig-2.0.0-py3-none-any.whl (5.9 kB)\n",
      "Requirement already satisfied: packaging in /Users/hp/Library/Python/3.11/lib/python/site-packages (from pytest) (23.1)\n",
      "Collecting pluggy<2.0,>=0.12 (from pytest)\n",
      "  Downloading pluggy-1.3.0-py3-none-any.whl.metadata (4.3 kB)\n",
      "Downloading pytest-7.4.3-py3-none-any.whl (325 kB)\n",
      "\u001b[2K   \u001b[90m━━━━━━━━━━━━━━━━━━━━━━━━━━━━━━━━━━━━━━━━\u001b[0m \u001b[32m325.1/325.1 kB\u001b[0m \u001b[31m6.0 MB/s\u001b[0m eta \u001b[36m0:00:00\u001b[0ma \u001b[36m0:00:01\u001b[0m\n",
      "\u001b[?25hDownloading pluggy-1.3.0-py3-none-any.whl (18 kB)\n",
      "Installing collected packages: pluggy, iniconfig, pytest\n",
      "Successfully installed iniconfig-2.0.0 pluggy-1.3.0 pytest-7.4.3\n"
     ]
    }
   ],
   "source": [
    "!pip install pytest\n",
    "#pytest test_api.py"
   ]
  },
  {
   "cell_type": "code",
   "execution_count": 3,
   "metadata": {},
   "outputs": [],
   "source": [
    "import requests\n",
    "\n",
    "def test_ingest_endpoint():\n",
    "    url = 'http://localhost:5000/ingest'  \n",
    "    data = {'data': [[100, 100, 200, 3000], [200, 230, 500, 4000]]}\n",
    "    response = requests.post(url, json=data)\n",
    "    assert response.status_code == 200\n",
    "    assert response.json() == {'message': 'Datos ingresados correctamente'}\n",
    "\n",
    "def test_predict_endpoint():\n",
    "    url = 'http://localhost:5000/predict'  \n",
    "    data = {'data': [[100, 100, 200]]} \n",
    "    \n",
    "    response = requests.get(url, json=data)\n",
    "    assert response.status_code == 200\n",
    "    assert 'prediction' in response.json()\n",
    "\n",
    "def test_retrain_endpoint():\n",
    "    url = 'http://localhost:5000/retrain'  \n",
    "    response = requests.post(url)\n",
    "    assert response.status_code == 200\n",
    "    assert response.json() == {'message': 'Modelo reentrenado correctamente.'}\n"
   ]
  }
 ],
 "metadata": {
  "kernelspec": {
   "display_name": "Python 3",
   "language": "python",
   "name": "python3"
  },
  "language_info": {
   "codemirror_mode": {
    "name": "ipython",
    "version": 3
   },
   "file_extension": ".py",
   "mimetype": "text/x-python",
   "name": "python",
   "nbconvert_exporter": "python",
   "pygments_lexer": "ipython3",
   "version": "3.11.5"
  }
 },
 "nbformat": 4,
 "nbformat_minor": 2
}
